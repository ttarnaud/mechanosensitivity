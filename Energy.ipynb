{
 "cells": [
  {
   "cell_type": "code",
   "execution_count": 86,
   "id": "9b544f3f-48f0-48ac-9438-f160c2921f44",
   "metadata": {},
   "outputs": [],
   "source": [
    "import numpy as np\n",
    "import matplotlib.pyplot as plt"
   ]
  },
  {
   "cell_type": "code",
   "execution_count": 116,
   "id": "e71a2ba9-013d-4e5b-a993-1503b827285f",
   "metadata": {},
   "outputs": [],
   "source": [
    "Am    =    2.756769e-02 \n",
    "Vmm   =    7.704963e+01\n",
    "b1m   =    -2.440201e+01 \n",
    "b2m   =    4.802552e+01 \n",
    "c1m   =    -1.712336e-01 \n",
    "c2m    =   4.493341e-02 \n",
    "d1m     =  4.181831e-03 \n",
    "d2m     =  4.526902e-03 \n",
    "g_bar  =    8.256491e-02 "
   ]
  },
  {
   "cell_type": "code",
   "execution_count": 117,
   "id": "064cf858-a13b-4071-8355-ddf63366e15e",
   "metadata": {},
   "outputs": [],
   "source": [
    "V_amp = np.arange(-100,120,20)\n",
    "V_amp_str = [str(elem) for elem in V_amp]"
   ]
  },
  {
   "cell_type": "code",
   "execution_count": 118,
   "id": "871e5359-25de-485f-a0c3-b97a72cbc67a",
   "metadata": {},
   "outputs": [
    {
     "data": {
      "image/png": "[encoded data removed]",
      "text/plain": [
       "<Figure size 432x288 with 1 Axes>"
      ]
     },
     "metadata": {
      "needs_background": "light"
     },
     "output_type": "display_data"
    }
   ],
   "source": [
    "G0 = []\n",
    "G1 = []\n",
    "for i, V in enumerate(V_amp):\n",
    "\n",
    "    G0.append(b1m*(V_amp[i]-Vmm) + c1m*(V_amp[i]-Vmm)**2 + d1m*(V_amp[i]-Vmm)**3)\n",
    "    G1.append(b2m*(V_amp[i]-Vmm) + c2m*(V_amp[i]-Vmm)**2 + d2m*(V_amp[i]-Vmm)**3)\n",
    "    \n",
    "plt.plot(V_amp, G0, 'o', color = 'r', label = '$G_{0}$')\n",
    "plt.plot(V_amp, G1, 'o', color = 'b', label = '$G_{1}$')\n",
    "plt.xlabel('Voltage [mV]')\n",
    "plt.ylabel('Free energy')\n",
    "plt.legend()\n",
    "\n",
    "plt.show()\n"
   ]
  },
  {
   "cell_type": "code",
   "execution_count": 103,
   "id": "8e2f40b0-5781-438b-8580-df964944c7f2",
   "metadata": {},
   "outputs": [],
   "source": [
    "Am   =     5.300089e-02 \n",
    "Vmm   =    -5.599999e+01 \n",
    "b1m   =    -2.599956e+02 \n",
    "b2m   =    6.485390e+01 \n",
    "c1m   =    2.199925e+00\n",
    "c2m   =    2.019927e+00 \n",
    "d1m   =    5.200352e-03 \n",
    "d2m   =    3.600145e-02\n",
    "gbar  =    3.500000e+01 "
   ]
  },
  {
   "cell_type": "code",
   "execution_count": 82,
   "id": "e5811599-1244-4424-8342-4aa56b8863ba",
   "metadata": {},
   "outputs": [],
   "source": [
    "V_amp = np.arange(-100,120,20)\n",
    "V_amp_str = [str(elem) for elem in V_amp]"
   ]
  },
  {
   "cell_type": "code",
   "execution_count": 85,
   "id": "3d683eb0-b4de-4e4a-9cba-e1d0e43cce09",
   "metadata": {},
   "outputs": [
    {
     "data": {
      "image/png": "[encoded data removed]",
      "text/plain": [
       "<Figure size 432x288 with 1 Axes>"
      ]
     },
     "metadata": {
      "needs_background": "light"
     },
     "output_type": "display_data"
    }
   ],
   "source": [
    "G0 = []\n",
    "G1 = []\n",
    "for i, V in enumerate(V_amp):\n",
    "\n",
    "    G0.append(b1m*(V_amp[i]-Vmm) + c1m*(V_amp[i]-Vmm)**2 + d1m*(V_amp[i]-Vmm)**3)\n",
    "    G1.append(b2m*(V_amp[i]-Vmm) + c2m*(V_amp[i]-Vmm)**2 + d2m*(V_amp[i]-Vmm)**3)\n",
    "    \n",
    "plt.plot(V_amp, G0, 'o', color = 'r', label = '$G_{0}$')\n",
    "plt.plot(V_amp, G1, 'o', color = 'b', label = '$G_{1}$')\n",
    "plt.xlabel('Voltage [mV]')\n",
    "plt.ylabel('Free energy')\n",
    "plt.legend()\n",
    "plt.show()"
   ]
  },
  {
   "cell_type": "code",
   "execution_count": 21,
   "id": "48543b47-ad36-438a-9129-4df0c3af87ba",
   "metadata": {},
   "outputs": [],
   "source": [
    "a = 5e-6 # Patch radius [m]\n",
    "k = 0.24 # Area Compression modulus [N.m^-1]\n",
    "def displacement_solver(Ps, a, k):\n",
    "    \"\"\"\n",
    "        Find the displacement for a given applied Pressure\n",
    "        \n",
    "        Parameters\n",
    "        ----------\n",
    "        \n",
    "        Ps : float\n",
    "            Pressure attributed to the circumferential tension \n",
    "            per unit length in the membrane [Pa]\n",
    "        a : float\n",
    "                Patch radius  [m]\n",
    "        k : float\n",
    "            Area Compression modulus [N.m^-1]\n",
    "    \n",
    "        Returns\n",
    "        -------\n",
    "        Z : array\n",
    "            Patch displacement [m]\n",
    "        \"\"\"\n",
    "    params = [2*k,-Ps*a**2,0,-Ps*a**4]\n",
    "\n",
    "    Z = np.roots(params)\n",
    "    Z = Z[np.isreal(Z)].real\n",
    "\n",
    "    return Z[0]"
   ]
  },
  {
   "cell_type": "code",
   "execution_count": 22,
   "id": "dca99314-61c3-4308-8971-f89f9c3b68b4",
   "metadata": {},
   "outputs": [],
   "source": [
    "def set_R_curv(Z):\n",
    "    R = (a**2 + Z**2) / (2*Z)\n",
    "    return R\n"
   ]
  },
  {
   "cell_type": "code",
   "execution_count": 23,
   "id": "fb3bf4d2-f692-468a-9c61-11be3eb92bf8",
   "metadata": {},
   "outputs": [],
   "source": [
    "def set_tension(R,Ps):\n",
    "    Ts = (R * Ps)\n",
    "\n",
    "    return Ts "
   ]
  },
  {
   "cell_type": "code",
   "execution_count": 52,
   "id": "501ebf97-795b-4bee-8ad4-ae3d66e789dc",
   "metadata": {},
   "outputs": [],
   "source": [
    "#fit h0\n",
    "Ah   =     5.796801e-02 \n",
    "C      =   -4.589622e+02 \n",
    "D       =  -2.063007e+01 \n",
    "delta_S  = 6.820357e+01 \n",
    "density  = 2.561223e+00 \n",
    "gamma    = 5.627326e-01\n",
    "z1       = -9.655673e+03 \n",
    "z2       = 2.365535e+03"
   ]
  },
  {
   "cell_type": "code",
   "execution_count": 35,
   "id": "01c61764-650c-41db-9c4a-f2fe361d02ae",
   "metadata": {},
   "outputs": [],
   "source": [
    "#h = 1/2\n",
    "\n",
    "Ah   =     5.457582e-02 \n",
    "C     =    -4.929852e-01\n",
    "D     =    -1.624593e+01\n",
    "delta_S =  8.897298e+01\n",
    "density =  6.878828e+00\n",
    "gamma   =  4.134328e-01 \n",
    "z1      =  4.163086e+03\n",
    "z2      =  -1.699943e+03"
   ]
  },
  {
   "cell_type": "code",
   "execution_count": 53,
   "id": "49b0c710-4623-4910-8c1b-fba6db4c1bbf",
   "metadata": {},
   "outputs": [],
   "source": [
    "import scipy.constants as cst"
   ]
  },
  {
   "cell_type": "code",
   "execution_count": 54,
   "id": "34e12d5b-66ff-4e77-8998-8721cdc00c71",
   "metadata": {},
   "outputs": [
    {
     "name": "stdout",
     "output_type": "stream",
     "text": [
      "Reversal potential computed with Nernst equation:-59.159350 mV\n"
     ]
    }
   ],
   "source": [
    "#from scipy.optimize import fmin as simplex\n",
    "#DEFINING CONSTANTS\n",
    "R =cst.R #gas constant [J mol^−1 K^−1]\n",
    "F= 96485.33212 #[C mol^-1] Faraday constant\n",
    "T = 273.15 + 25 # [kelvin] temperature const\n",
    "\n",
    "# Compute reveral potential, using Nernst equation: \n",
    "ki = 150e-3 #[M] intracellular concentration\n",
    "ko = 15e-3   #[M] extracellular concentration\n",
    "z = 1\n",
    "E_k = ((R*T)/(z*F))*np.log(ko/ki)*1e3\n",
    "print(f'Reversal potential computed with Nernst equation:{E_k:3f} mV')"
   ]
  },
  {
   "cell_type": "code",
   "execution_count": 55,
   "id": "d1170152-40a9-419b-ae9a-b1e819a20cf6",
   "metadata": {},
   "outputs": [],
   "source": [
    "V_hold = 0 # [mV]\n",
    "P_arr = [2.5, 5, 7.5, 10, 12.5, 15, 17.5, 20, 22.5, 25]\n",
    "P_arr_str = []\n",
    "P_arr_str = [str(elem) for elem in P_arr]"
   ]
  },
  {
   "cell_type": "code",
   "execution_count": 56,
   "id": "a787ed4e-32cf-45cf-9ec9-b99d6dbe9b13",
   "metadata": {},
   "outputs": [],
   "source": [
    "G0m = []\n",
    "G1m = []\n",
    "G0h = []\n",
    "G1h = []\n",
    "\n",
    "for i, value in enumerate(P_arr_str):\n",
    "    \n",
    "    Ps_mmHg = P_arr[i]\n",
    "    Ps_PA = Ps_mmHg * 133.322 \n",
    "    Z_15mmHg = displacement_solver(Ps_PA,a,k)\n",
    "    R_curv = set_R_curv(Z_15mmHg)\n",
    "    Ts = set_tension(R_curv,Ps_PA)\n",
    "\n",
    "    G0m.append(b1m*(V_hold-Vmm) + c1m*(V_hold-Vmm)**2 + d1m*(V_hold-Vmm)**3 - gamma*cst.N_A*Ts*delta_S*10**(-20))\n",
    "    G1m.append(b2m*(V_hold-Vmm) + c2m*(V_hold-Vmm)**2 + d2m*(V_hold-Vmm)**3 - (gamma-1)*cst.N_A*Ts*delta_S*10**(-20))\n",
    "\n",
    "    G0h.append(z1 - C*cst.N_A*Ts*10**(-20))\n",
    "    G1h.append(z2 - D*cst.N_A*Ts*10**(-20))\n",
    "    \n",
    "\n"
   ]
  },
  {
   "cell_type": "code",
   "execution_count": 57,
   "id": "9566426d-cfc2-4750-8f95-11c5457e4627",
   "metadata": {},
   "outputs": [
    {
     "data": {
      "image/png": "[encoded data removed]",
      "text/plain": [
       "<Figure size 720x360 with 2 Axes>"
      ]
     },
     "metadata": {
      "needs_background": "light"
     },
     "output_type": "display_data"
    }
   ],
   "source": [
    "fig, ax= plt.subplots(1, 2, constrained_layout=True, figsize=(10,5))\n",
    "\n",
    "ax[0].plot(P_arr, G0m, 'o', color = 'r', label = '$G_{0m}$')\n",
    "ax[0].plot(P_arr, G1m, 'o', color = 'b', label = '$G_{1m}$')\n",
    "\n",
    "ax[0].set_xlabel('Pressure [mmHg]')\n",
    "ax[0].set_ylabel('Free energy')\n",
    "ax[0].set_title('Activation free energy')\n",
    "ax[0].legend()\n",
    "\n",
    "plt.plot(P_arr, G0h, 's', color = 'orange', label = '$G_{0h}$')\n",
    "plt.plot(P_arr, G1h, 's', color = 'cyan', label = '$G_{1h}$')\n",
    "ax[1].set_xlabel('Pressure [mmHg]')\n",
    "ax[1].set_ylabel('Free energy')\n",
    "ax[1].set_title('Inactivation free energy')\n",
    "ax[1].legend()\n",
    "\n",
    "fig.show()\n"
   ]
  },
  {
   "cell_type": "code",
   "execution_count": 58,
   "id": "d554bd1a-c5ee-4e68-933f-f3a632ba6e00",
   "metadata": {},
   "outputs": [
    {
     "data": {
      "image/png": "[encoded data removed]",
      "text/plain": [
       "<Figure size 432x288 with 1 Axes>"
      ]
     },
     "metadata": {
      "needs_background": "light"
     },
     "output_type": "display_data"
    }
   ],
   "source": [
    "plt.plot(P_arr, G0m, 'o', color = 'r', label = '$G_{0m}$')\n",
    "plt.plot(P_arr, G1m, 'o', color = 'b', label = '$G_{1m}$')\n",
    "\n",
    "plt.xlabel('Pressure [mmHg]')\n",
    "plt.ylabel('Free energy')\n",
    "plt.title('Activation free energy')\n",
    "plt.legend()\n",
    "plt.show()"
   ]
  },
  {
   "cell_type": "code",
   "execution_count": 59,
   "id": "82f1e6c6-df98-4037-b45a-c2de67d536c8",
   "metadata": {},
   "outputs": [
    {
     "data": {
      "image/png": "[encoded data removed]",
      "text/plain": [
       "<Figure size 432x288 with 1 Axes>"
      ]
     },
     "metadata": {
      "needs_background": "light"
     },
     "output_type": "display_data"
    }
   ],
   "source": [
    "plt.plot(P_arr, G0h, 's', color = 'orange', label = '$G_{0h}$')\n",
    "plt.plot(P_arr, G1h, 's', color = 'cyan', label = '$G_{1h}$')\n",
    "plt.xlabel('Pressure [mmHg]')\n",
    "plt.ylabel('Free energy')\n",
    "plt.title('Inactivation free energy')\n",
    "plt.legend()\n",
    "plt.show()"
   ]
  },
  {
   "cell_type": "code",
   "execution_count": null,
   "id": "0ac7b6e0-af44-4ef0-b7ea-9dcd7daae79a",
   "metadata": {},
   "outputs": [],
   "source": []
  }
 ],
 "metadata": {
  "kernelspec": {
   "display_name": "Python 3 (ipykernel)",
   "language": "python",
   "name": "python3"
  },
  "language_info": {
   "codemirror_mode": {
    "name": "ipython",
    "version": 3
   },
   "file_extension": ".py",
   "mimetype": "text/x-python",
   "name": "python",
   "nbconvert_exporter": "python",
   "pygments_lexer": "ipython3",
   "version": "3.9.10"
  }
 },
 "nbformat": 4,
 "nbformat_minor": 5
}
