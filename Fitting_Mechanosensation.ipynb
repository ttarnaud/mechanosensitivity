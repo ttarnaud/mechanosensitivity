{
 "cells": [
  {
   "cell_type": "code",
   "execution_count": null,
   "metadata": {},
   "outputs": [],
   "source": [
    "import numpy as np\n",
    "import pandas as pd\n",
    "import matplotlib.pyplot as plt\n",
    "import scipy.constants as cst\n",
    "from scipy.optimize import curve_fit\n",
    "plt.rcParams.update({'font.size': 14})\n",
    "from scipy import interpolate\n",
    "from symfit import parameters, variables, Model, Fit, exp\n",
    "from symfit.core.minimizers import DifferentialEvolution, LBFGSB\n",
    "import scipy.constants as cst"
   ]
  },
  {
   "attachments": {},
   "cell_type": "markdown",
   "metadata": {},
   "source": [
    "# USE SYMPY 1.6.2 (and  probably new environment)"
   ]
  },
  {
   "attachments": {},
   "cell_type": "markdown",
   "metadata": {},
   "source": [
    "# From Pressure to Tension"
   ]
  },
  {
   "cell_type": "code",
   "execution_count": null,
   "metadata": {},
   "outputs": [],
   "source": [
    "a = 5e-6 # Patch radius [m]\n",
    "k = 0.24 # Area Compression modulus [N.m^-1]"
   ]
  },
  {
   "cell_type": "code",
   "execution_count": null,
   "metadata": {},
   "outputs": [],
   "source": [
    "def displacement_solver(Ps, a, k):\n",
    "    \"\"\"\n",
    "        Find the displacement for a given applied Pressure\n",
    "        \n",
    "        Parameters\n",
    "        ----------\n",
    "        \n",
    "        Ps : float\n",
    "            Pressure attributed to the circumferential tension \n",
    "            per unit length in the membrane [Pa]\n",
    "        a : float\n",
    "                Patch radius  [m]\n",
    "        k : float\n",
    "            Area Compression modulus [N.m^-1]\n",
    "    \n",
    "        Returns\n",
    "        -------\n",
    "        Z : array\n",
    "            Patch displacement [m]\n",
    "        \"\"\"\n",
    "    params = [2*k,-Ps*a**2,0,-Ps*a**4]\n",
    "\n",
    "    Z = np.roots(params)\n",
    "    Z = Z[np.isreal(Z)].real\n",
    "\n",
    "    return Z[0]\n"
   ]
  },
  {
   "cell_type": "code",
   "execution_count": null,
   "metadata": {},
   "outputs": [],
   "source": [
    "def set_R_curv(Z):\n",
    "    R = (a**2 + Z**2) / (2*Z)\n",
    "    return R"
   ]
  },
  {
   "cell_type": "code",
   "execution_count": null,
   "metadata": {},
   "outputs": [],
   "source": [
    "def set_tension(R,Ps):\n",
    "    Ts = (R * Ps)\n",
    "\n",
    "    return Ts "
   ]
  },
  {
   "cell_type": "code",
   "execution_count": null,
   "metadata": {},
   "outputs": [],
   "source": [
    "Ps_mmHg = 15\n",
    "Ps_PA = Ps_mmHg * 133.322 \n",
    "Z_15mmHg = displacement_solver(Ps_PA,a,k)\n",
    "R_curv = set_R_curv(Z_15mmHg)\n",
    "Ts = set_tension(R_curv,Ps_PA)\n",
    "print(Ts)"
   ]
  },
  {
   "cell_type": "code",
   "execution_count": null,
   "metadata": {},
   "outputs": [],
   "source": [
    "import numpy as np\n",
    "\n",
    "def coeff_of_determination(y, f):\n",
    "    \"\"\"\n",
    "    This function computes the coefficient of determination.\n",
    "        Input:\n",
    "            y: observed data\n",
    "            f: fitted/predicted value\n",
    "\n",
    "        Output:\n",
    "            R2: coefficient of determination\n",
    "    \"\"\"\n",
    "    mean_y = np.mean(y)\n",
    "\n",
    "    # Residual sum of squares\n",
    "    SSres = np.sum((y-f)**2)\n",
    "\n",
    "    # Total sum of squares\n",
    "    SStot = np.sum((y-mean_y)**2)\n",
    "\n",
    "    # Coefficient of determination\n",
    "    R2 = 1 - (SSres/SStot)\n",
    "\n",
    "    return R2"
   ]
  },
  {
   "cell_type": "code",
   "execution_count": null,
   "metadata": {},
   "outputs": [],
   "source": [
    "def adjusted_coeff_determ(y, f, n, k):\n",
    "    \"\"\"\n",
    "    This function computes the coefficient of determination.\n",
    "        Input:\n",
    "            y: observed data\n",
    "            f: fitted/predicted value\n",
    "            n: number of observations\n",
    "            k: number of predictor variables\n",
    "\n",
    "        Output:\n",
    "            adjust_R2: ADJUSTED coefficient of determination\n",
    "    \"\"\"\n",
    "\n",
    "    R2 = coeff_of_determination(y, f)\n",
    "    adjust_R2 = 1- ((1-R2)*(n-1)/(n-k-1))\n",
    "\n",
    "    return adjust_R2"
   ]
  },
  {
   "attachments": {},
   "cell_type": "markdown",
   "metadata": {},
   "source": [
    "# 1. Experimental Data"
   ]
  },
  {
   "attachments": {},
   "cell_type": "markdown",
   "metadata": {},
   "source": [
    "## 1.1. Load Data"
   ]
  },
  {
   "cell_type": "code",
   "execution_count": null,
   "metadata": {},
   "outputs": [],
   "source": [
    "#from scipy.optimize import fmin as simplex\n",
    "#DEFINING CONSTANTS\n",
    "R =cst.R #gas constant [J mol^−1 K^−1]\n",
    "F= 96485.33212 #[C mol^-1] Faraday constant\n",
    "T = 273.15 + 25 # [kelvin] temperature const\n",
    "\n",
    "# Compute reveral potential, using Nernst equation: \n",
    "ki = 150e-3 #[M] intracellular concentration\n",
    "ko = 15e-3   #[M] extracellular concentration\n",
    "z = 1\n",
    "E_k = ((R*T)/(z*F))*np.log(ko/ki)*1e3\n",
    "print(f'Reversal potential computed with Nerst equation:{E_k:3f} mV')"
   ]
  },
  {
   "cell_type": "code",
   "execution_count": null,
   "metadata": {},
   "outputs": [],
   "source": [
    "V_hold = 0 # [mV]\n",
    "P_arr = [2.5, 5, 7.5, 10, 12.5, 15, 17.5, 20, 22.5, 25]\n",
    "P_arr_str = [str(elem) for elem in P_arr]\n",
    "PATH_TO_DATA='Data/Mechanosensation/'"
   ]
  },
  {
   "cell_type": "code",
   "execution_count": null,
   "metadata": {},
   "outputs": [],
   "source": [
    "I_data = {P_arr: pd.read_csv(PATH_TO_DATA + P_arr + '.csv', header=0, names=['x', 'y'], comment='#') \n",
    "for P_arr in P_arr_str}"
   ]
  },
  {
   "cell_type": "code",
   "execution_count": null,
   "metadata": {},
   "outputs": [],
   "source": [
    "# Look at what the data I extracted look like\n",
    "fig, ax= plt.subplots(1,1, figsize= (12,10))\n",
    "for idx, value in enumerate(P_arr_str):\n",
    "    plt.plot(I_data[value].x, I_data[value].y, label='P = ' + value + \" mmHg\")\n",
    "plt.xlabel(\"t [ms]\")\n",
    "plt.ylabel(\"Current [nA]\")\n",
    "plt.grid()\n",
    "plt.legend(loc='upper right')"
   ]
  },
  {
   "attachments": {},
   "cell_type": "markdown",
   "metadata": {},
   "source": [
    "## 1.2. Compute the conductance:\n"
   ]
  },
  {
   "cell_type": "code",
   "execution_count": null,
   "metadata": {},
   "outputs": [],
   "source": [
    "#Fitted parameters from Voltage fitting\n",
    "Am    =    2.756769e-02 \n",
    "Vmm   =    7.704963e+01\n",
    "b1m   =    -2.440201e+01 \n",
    "b2m   =    4.802552e+01 \n",
    "c1m   =    -1.712336e-01 \n",
    "c2m    =   4.493341e-02 \n",
    "d1m     =  4.181831e-03 \n",
    "d2m     =  4.526902e-03 \n",
    "g_bar  =    8.256491e-02 "
   ]
  },
  {
   "cell_type": "code",
   "execution_count": null,
   "metadata": {},
   "outputs": [],
   "source": [
    "V_amp = np.arange(-100,120,20)\n",
    "V_amp_str = [str(elem) for elem in V_amp]"
   ]
  },
  {
   "cell_type": "code",
   "execution_count": null,
   "metadata": {},
   "outputs": [],
   "source": [
    "g_data = {P_arr: (I_data[P_arr].y/(V_hold-E_k)).to_frame().join(I_data[P_arr].x) for P_arr in P_arr_str}"
   ]
  },
  {
   "cell_type": "code",
   "execution_count": null,
   "metadata": {},
   "outputs": [],
   "source": [
    "t_on, t_off = 10.1, 120\n",
    "g_data_on = {P_arr: (I_data[P_arr][(I_data[P_arr].x>=t_on) & (I_data[P_arr].x <= t_off)].y/(V_hold-E_k)).to_frame().join(I_data[P_arr].x)\n",
    "for P_arr in P_arr_str}"
   ]
  },
  {
   "cell_type": "code",
   "execution_count": null,
   "metadata": {},
   "outputs": [],
   "source": [
    "# Look at what the computed conductances look like\n",
    "fig, ax= plt.subplots(1,1, figsize= (12,10))\n",
    "\n",
    "for idx, value in enumerate(P_arr_str):\n",
    "    plt.plot(g_data[value].x, g_data[value].y, label='P = ' + value + \" mmHg\")\n",
    "    \n",
    "plt.xlabel(\"t [ms]\")\n",
    "plt.ylabel(\"Conductance [uS]\")\n",
    "plt.grid()\n",
    "plt.legend(loc='upper right')"
   ]
  },
  {
   "cell_type": "code",
   "execution_count": null,
   "metadata": {},
   "outputs": [],
   "source": [
    "# Look at what the computed conductances (pressure on) look like\n",
    "fig, ax= plt.subplots(1,1, figsize= (12,10))\n",
    "\n",
    "for idx, value in enumerate(P_arr_str):\n",
    "    plt.plot(g_data_on[value].x, g_data_on[value].y, label='P = ' + value + \" mmHg\")\n",
    "    \n",
    "plt.xlabel(\"t [ms]\")\n",
    "plt.ylabel(\"Conductance [uS]\")\n",
    "plt.grid()\n",
    "plt.legend(loc='upper right');"
   ]
  },
  {
   "attachments": {},
   "cell_type": "markdown",
   "metadata": {},
   "source": [
    "## 1.4. Fitting with fitted h0\n"
   ]
  },
  {
   "cell_type": "code",
   "execution_count": null,
   "metadata": {},
   "outputs": [],
   "source": [
    "#Define the model with symfit\n",
    "V_m0 = 0\n",
    "\n",
    "x = variables(','.join((f'x{i}' for i in range(len(P_arr)))))\n",
    "y = variables(','.join([f'y{i}' for i in range(len(P_arr))]))\n",
    "gamma, delta_S, C, D, Ah, density, z1, z2 = parameters('gamma, delta_S, C, D, Ah, density, z1, z2')\n",
    "\n",
    "density.min, density.max = 1, 150\n",
    "gamma.min, gamma.max = 0, 1\n",
    "delta_S.min, delta_S.max = 0, 200\n",
    "C.min, C.max = -500,500\n",
    "D.min, D.max = -500,500\n",
    "Ah.min, Ah.max = 0.0001, 0.1\n",
    "z1.min, z1.max = -10000, 10000\n",
    "z2.min, z2.max = -10000, 10000 \n",
    "\n",
    "alpham0 = (Am*exp(-(b1m*(V_m0-Vmm) + c1m*(V_m0-Vmm)**2 + d1m*(V_m0-Vmm)**3)/(R*T)))\n",
    "betam0 = (Am*exp(-(b2m*(V_m0-Vmm) + c2m*(V_m0-Vmm)**2 + d2m*(V_m0-Vmm)**3)/(R*T)))\n",
    "alphah0 = (exp(-(z1)/(R*T)))\n",
    "betah0 = (exp(-(z2)/(R*T)))\n",
    "\n",
    "m0 = alpham0/(alpham0+betam0) \n",
    "h0 = alphah0/(alphah0+betah0)"
   ]
  },
  {
   "cell_type": "code",
   "execution_count": null,
   "metadata": {},
   "outputs": [],
   "source": [
    "Ps_Pa = [133.322*P for P in P_arr]  # mmHg to Pa\n",
    "Z = [displacement_solver(Ps_Pa,a,k) for Ps_Pa in Ps_Pa]\n",
    "R_curv = [set_R_curv(Z) for Z in Z]\n",
    "Ts = [set_tension(R_curv, Ps_Pa) for R_curv, Ps_Pa in zip(R_curv,Ps_Pa)]\n",
    "\n",
    "alpham = [Am*exp(-(b1m*(V_hold-Vmm) + c1m*(V_hold-Vmm)**2 + d1m*(V_hold-Vmm)**3 - gamma*cst.N_A*Ts*delta_S*10**(-20))/(R*T)) for Ts in Ts]\n",
    "betam = [Am*exp(-(b2m*(V_hold-Vmm) + c2m*(V_hold-Vmm)**2 + d2m*(V_hold-Vmm)**3 - (gamma-1)*cst.N_A*Ts*delta_S*10**(-20))/(R*T)) for Ts in Ts]\n",
    "alphah = [Ah*exp(-(z1 - C*cst.N_A*Ts*10**(-20))/(R*T)) for Ts in Ts]\n",
    "betah = [Ah*exp(-(z2 - D*cst.N_A*Ts*10**(-20))/(R*T)) for Ts in Ts]\n",
    "\n",
    "m_inf = [alpham/(alpham+betam) for alpham, betam in zip(alpham, betam)]\n",
    "tau_m = [1/(alpham+betam) for alpham, betam in zip(alpham, betam)]\n",
    "h_inf = [alphah/(alphah+betah) for alphah, betah in zip(alphah, betah)]\n",
    "tau_h = [1/(alphah+betah) for alphah, betah in zip(alphah, betah)]\n",
    "\n",
    "m = [m_inf - (m_inf - m0)*exp(-(x-t_on)/tau_m) for m_inf, x, tau_m in zip(m_inf,tau_m, x)]\n",
    "h = [h_inf - (h_inf - h0)*exp(-(x-t_on)/tau_h) for h_inf, tau_h, x in zip(h_inf, tau_h, x)]\n",
    "\n",
    "model = Model({y: density*g_bar*h*m for y, h, m in zip(y, h, m)})"
   ]
  },
  {
   "cell_type": "code",
   "execution_count": null,
   "metadata": {},
   "outputs": [],
   "source": [
    "kwargs_x = {f'x{i}': g_data_on[P_arr].x.to_numpy() for i, P_arr in zip(range(len(P_arr_str)),P_arr_str)}\n",
    "kwargs_y = {f'y{i}': g_data_on[P_arr].y.to_numpy() for i, P_arr in zip(range(len(P_arr_str)),P_arr_str)}\n",
    "\n",
    "Runtype = 'full'\n",
    "\n",
    "if Runtype == 'full':\n",
    "    # Full run\n",
    "    fit = Fit(model, **(kwargs_x | kwargs_y), minimizer= [DifferentialEvolution, LBFGSB])\n",
    "    fit_result = fit.execute(DifferentialEvolution={'popsize': 50, 'recombination': 0.9, 'workers':-1})\n",
    "elif Runtype == 'fast':\n",
    "    # Fast \n",
    "    fit = Fit(model, **(kwargs_x | kwargs_y), minimizer= [LBFGSB])\n",
    "    fit_result = fit.execute()"
   ]
  },
  {
   "cell_type": "code",
   "execution_count": null,
   "metadata": {},
   "outputs": [],
   "source": [
    "print(fit_result)"
   ]
  },
  {
   "cell_type": "code",
   "execution_count": null,
   "metadata": {},
   "outputs": [],
   "source": [
    "y_fit = model(**kwargs_x,**fit_result.params)"
   ]
  },
  {
   "cell_type": "code",
   "execution_count": null,
   "metadata": {},
   "outputs": [],
   "source": [
    "#Plot the fitted curves\n",
    "fig, ax= plt.subplots(len(P_arr), 1, constrained_layout=True, figsize=(15, 30))\n",
    "\n",
    "for idx, value in enumerate(P_arr_str):\n",
    "    \n",
    "    ax[idx].plot(g_data_on[value].x, g_data_on[value].y, label= 'P = ' + value + \" mmHg\")\n",
    "    ax[idx].plot(g_data_on[value].x, y_fit[idx], '--', label = 'fitted curve')\n",
    "    ax[idx].set_xlabel('Time [ms]')\n",
    "    ax[idx].set_ylabel('Conductance [$\\mu$S]')\n",
    "    ax[idx].legend()\n",
    "\n",
    "    print('Fit: {} mmHg, with adjusted R2={}'.format(value, adjusted_coeff_determ(g_data_on[value].y, y_fit[idx], len(g_data_on[value].x), 8)))"
   ]
  },
  {
   "cell_type": "code",
   "execution_count": null,
   "metadata": {},
   "outputs": [],
   "source": [
    "#Calculate the state variables\n",
    "def evaluate_symfit(func_list):\n",
    "    return [func.subs({globals()[key]: value for key, value in fit_result.params.items()}) for func in func_list]\n",
    "\n",
    "alpham, betam, alphah, betah = [evaluate_symfit(x) for x in [alpham, betam, alphah, betah]]\n",
    "m_inf, tau_m, h_inf, tau_h = [evaluate_symfit(x) for x in [m_inf, tau_m, h_inf, tau_h]]"
   ]
  },
  {
   "cell_type": "code",
   "execution_count": null,
   "metadata": {},
   "outputs": [],
   "source": [
    "#Plot the state variables\n",
    "fig, ax = plt.subplots(2,2,figsize= (15,10))\n",
    "fig.suptitle('Fitted values of state variables')\n",
    "\n",
    "ax[0][0].plot(P_arr, m_inf, 'o')\n",
    "ax[0][0].set_ylabel('$m_{\\infty}$')\n",
    "ax[0][0].grid()\n",
    "ax[0][0].set_title('Activation')\n",
    "\n",
    "ax[1][0].plot(P_arr, tau_m, 'o')\n",
    "ax[1][0].set_ylabel('$\\\\tau_m$ [ms]')\n",
    "ax[1][0].set_xlabel('Pressure [mmHg]')\n",
    "ax[1][0].grid()\n",
    "\n",
    "ax[0][1].plot(P_arr, h_inf, 'o')\n",
    "ax[0][1].set_ylabel('$h_{\\infty}$')\n",
    "ax[0][1].grid()\n",
    "ax[0][1].set_title('Inactivation')\n",
    "\n",
    "ax[1][1].plot(P_arr, tau_h, 'o')\n",
    "ax[1][1].set_ylabel('$\\\\tau_h$ [ms]')\n",
    "ax[1][1].set_xlabel('Pressure [mmHg]')\n",
    "ax[1][1].grid()"
   ]
  }
 ],
 "metadata": {
  "kernelspec": {
   "display_name": ".venv",
   "language": "python",
   "name": "python3"
  },
  "language_info": {
   "codemirror_mode": {
    "name": "ipython",
    "version": 3
   },
   "file_extension": ".py",
   "mimetype": "text/x-python",
   "name": "python",
   "nbconvert_exporter": "python",
   "pygments_lexer": "ipython3",
   "version": "3.11.5"
  },
  "orig_nbformat": 4
 },
 "nbformat": 4,
 "nbformat_minor": 2
}
